{
  "nbformat": 4,
  "nbformat_minor": 0,
  "metadata": {
    "colab": {
      "name": "PythonExercise_BasicPart1.ipynb",
      "provenance": [],
      "collapsed_sections": [],
      "include_colab_link": true
    },
    "kernelspec": {
      "name": "python3",
      "display_name": "Python 3"
    }
  },
  "cells": [
    {
      "cell_type": "markdown",
      "metadata": {
        "id": "view-in-github",
        "colab_type": "text"
      },
      "source": [
        "<a href=\"https://colab.research.google.com/github/Narahari8999/Python/blob/master/PythonExercise_BasicPart1.ipynb\" target=\"_parent\"><img src=\"https://colab.research.google.com/assets/colab-badge.svg\" alt=\"Open In Colab\"/></a>"
      ]
    },
    {
      "cell_type": "code",
      "metadata": {
        "id": "r4_ASpfkgZ2Y",
        "colab_type": "code",
        "colab": {
          "base_uri": "https://localhost:8080/",
          "height": 119
        },
        "outputId": "ad2594f1-118f-4044-8395-e1683de44626"
      },
      "source": [
        "print('Twinkle, Twinkle, little star,\\n\\tHow I wonder what you are!n\\n\\t\\tUp above the world so high,\\n\\t\\tlike a diamond in the sky.\\nTwinkle, Twinkle, little star,\\n\\tHow I wonde what you are!')"
      ],
      "execution_count": 5,
      "outputs": [
        {
          "output_type": "stream",
          "text": [
            "Twinkle, Twinkle, little star,\n",
            "\tHow I wonder what you are!n\n",
            "\t\tUp above the world so high,\n",
            "\t\tlike a diamond in the sky.\n",
            "Twinkle, Twinkle, little star,\n",
            "\tHow I wonde what you are!\n"
          ],
          "name": "stdout"
        }
      ]
    },
    {
      "cell_type": "code",
      "metadata": {
        "id": "ftSRwJBmfgKS",
        "colab_type": "code",
        "colab": {}
      },
      "source": [
        ""
      ],
      "execution_count": 0,
      "outputs": []
    }
  ]
}